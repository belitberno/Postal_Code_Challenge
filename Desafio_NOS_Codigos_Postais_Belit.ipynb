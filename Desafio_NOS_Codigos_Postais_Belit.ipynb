{
 "cells": [
  {
   "cell_type": "markdown",
   "id": "a571d81b",
   "metadata": {},
   "source": [
    "## Desafio NOS - Código Postal"
   ]
  },
  {
   "cell_type": "markdown",
   "id": "cd14017f",
   "metadata": {},
   "source": [
    "### Introdução:"
   ]
  },
  {
   "cell_type": "markdown",
   "id": "4dfe7014",
   "metadata": {},
   "source": [
    "Gostaríamos de propor um exercício prático que envolva o enriquecimento de dados de geolocalização da nossa empresa. O objetivo é que o candidato desenvolva uma solução para complementar as informações de um conjunto de dados com informações de concelho e distrito. Este desafio permitirá avaliar a capacidade de automatização, integração de dados e construção de APIs."
   ]
  },
  {
   "cell_type": "markdown",
   "id": "550b418e",
   "metadata": {},
   "source": [
    "### Tarefa:"
   ]
  },
  {
   "cell_type": "markdown",
   "id": "e4fcdd6f",
   "metadata": {},
   "source": [
    "Utilizando ferramentas de pesquisa, sites com informações de Códigos Postais ou APIs disponíveis na internet, deverás encontrar as informações correspondentes ao concelho e distrito para cada código postal."
   ]
  },
  {
   "cell_type": "markdown",
   "id": "94abfc8c",
   "metadata": {},
   "source": [
    "### Processo:"
   ]
  },
  {
   "cell_type": "markdown",
   "id": "a7fa6b64",
   "metadata": {},
   "source": [
    "Desenvolve um script ou programa que automatize essa busca e enriquecimento dos dados. Complementa o código postal presente no CSV com as informações de concelho e distrito."
   ]
  },
  {
   "cell_type": "markdown",
   "id": "81c574c3",
   "metadata": {},
   "source": [
    "### Armazenamento dos Dados:"
   ]
  },
  {
   "cell_type": "markdown",
   "id": "5baa5811",
   "metadata": {},
   "source": [
    "O resultado final deve ser salvo em uma tabela num banco de dados."
   ]
  },
  {
   "cell_type": "markdown",
   "id": "3d531cb7",
   "metadata": {},
   "source": [
    "### Estrutura mínima da tabela:"
   ]
  },
  {
   "cell_type": "markdown",
   "id": "ed1c177a",
   "metadata": {},
   "source": [
    "codigo_postal (string ou varchar)\n",
    "\n",
    "concelho (string ou varchar)\n",
    "\n",
    "distrito (string ou varchar)"
   ]
  },
  {
   "cell_type": "markdown",
   "id": "4424c66b",
   "metadata": {},
   "source": [
    "## Ferramentas utilizadas:"
   ]
  },
  {
   "cell_type": "markdown",
   "id": "757b1bbc",
   "metadata": {},
   "source": [
    "- Jupyter Notebook\n",
    "- Linguagem Python\n",
    "- Banco de Dados: SQLite3"
   ]
  },
  {
   "cell_type": "markdown",
   "id": "ac6486fd",
   "metadata": {},
   "source": [
    "### Importar as bibliotecas necessárias:"
   ]
  },
  {
   "cell_type": "code",
   "execution_count": 17,
   "id": "fdfe9995",
   "metadata": {},
   "outputs": [],
   "source": [
    "import pandas as pd\n",
    "import sqlite3\n",
    "import requests\n",
    "from flask import Flask, jsonify, request\n",
    "import re\n",
    "import time\n",
    "import json\n",
    "from concurrent.futures import ThreadPoolExecutor"
   ]
  },
  {
   "cell_type": "markdown",
   "id": "1c3d0177",
   "metadata": {},
   "source": [
    "### Carregar o arquivo CSV"
   ]
  },
  {
   "cell_type": "code",
   "execution_count": 16,
   "id": "5b521157",
   "metadata": {},
   "outputs": [],
   "source": [
    "data = pd.read_csv(\"C:\\\\Users\\\\Belit\\\\Downloads\\\\cp7_data.csv\")"
   ]
  },
  {
   "cell_type": "markdown",
   "id": "9e503af9",
   "metadata": {},
   "source": [
    "### Processo de Correção do formato do Código Postal:"
   ]
  },
  {
   "cell_type": "code",
   "execution_count": 17,
   "id": "49262817",
   "metadata": {},
   "outputs": [
    {
     "data": {
      "text/html": [
       "<div>\n",
       "<style scoped>\n",
       "    .dataframe tbody tr th:only-of-type {\n",
       "        vertical-align: middle;\n",
       "    }\n",
       "\n",
       "    .dataframe tbody tr th {\n",
       "        vertical-align: top;\n",
       "    }\n",
       "\n",
       "    .dataframe thead th {\n",
       "        text-align: right;\n",
       "    }\n",
       "</style>\n",
       "<table border=\"1\" class=\"dataframe\">\n",
       "  <thead>\n",
       "    <tr style=\"text-align: right;\">\n",
       "      <th></th>\n",
       "      <th>CP7</th>\n",
       "    </tr>\n",
       "  </thead>\n",
       "  <tbody>\n",
       "  </tbody>\n",
       "</table>\n",
       "</div>"
      ],
      "text/plain": [
       "Empty DataFrame\n",
       "Columns: [CP7]\n",
       "Index: []"
      ]
     },
     "execution_count": 17,
     "metadata": {},
     "output_type": "execute_result"
    }
   ],
   "source": [
    "# Função para corrigir o formato do código postal\n",
    "def correct_postal_code_format(postal_code):\n",
    "    postal_code = str(postal_code).strip()\n",
    "    \n",
    "    # Verificar se já está no formato correto\n",
    "    if re.match(r\"^\\d{4}-\\d{3}$\", postal_code):\n",
    "        return postal_code\n",
    "    \n",
    "    # Tentar corrigir códigos no formato incorreto\n",
    "    if re.match(r\"^\\d{7}$\", postal_code):  # Exemplo: 9300092 -> 9300-092\n",
    "        return f\"{postal_code[:4]}-{postal_code[4:]}\"\n",
    "    \n",
    "    # Se o dado não puder ser corrigido, mantê-lo como está para revisão manual\n",
    "    return postal_code\n",
    "\n",
    "# Aplicar a correção diretamente na coluna original\n",
    "data['CP7'] = data['CP7'].apply(correct_postal_code_format)\n",
    "\n",
    "# Verificar se ainda há dados fora do padrão após a correção\n",
    "invalid_after_correction = data[~data['CP7'].apply(lambda x: bool(re.match(r\"^\\d{4}-\\d{3}$\", x)))]\n",
    "\n",
    "# Exibir dados fora do padrão após a correção\n",
    "invalid_after_correction\n"
   ]
  },
  {
   "cell_type": "markdown",
   "id": "7a2c5baf",
   "metadata": {},
   "source": [
    "### Salvar Dataframe corrigido."
   ]
  },
  {
   "cell_type": "code",
   "execution_count": 18,
   "id": "37c2b4f1",
   "metadata": {},
   "outputs": [],
   "source": [
    "data.to_csv(\"cp7_data_corrigido.csv\", index=False)"
   ]
  },
  {
   "cell_type": "markdown",
   "id": "98a523b5",
   "metadata": {},
   "source": [
    "### Configuração da API, Enriquecer o Dataset e Criação Tabela em SQLite3:"
   ]
  },
  {
   "cell_type": "markdown",
   "id": "b4030271",
   "metadata": {},
   "source": [
    "A função de enriquecer o dataset da API foi configurado em lotes de 30 códigos, assim, podemos acompanhar o processo, não vai ficar lento e, a versão free da API do CTT suporta apenas 30 pedidos por minuto. Portanto, o carregamento no total foi de 10 minutos, uma vez que temos 280 códigos postais para analisar."
   ]
  },
  {
   "cell_type": "code",
   "execution_count": 23,
   "id": "cd9308cb",
   "metadata": {},
   "outputs": [
    {
     "name": "stdout",
     "output_type": "stream",
     "text": [
      "Nenhum dado encontrado para o código postal: 9626-320\n",
      "Processado lote 1/10\n",
      "Nenhum dado encontrado para o código postal: 9600-908\n",
      "Processado lote 2/10\n",
      "Processado lote 3/10\n",
      "Nenhum dado encontrado para o código postal: 2300-348\n",
      "Processado lote 4/10\n",
      "Processado lote 5/10\n",
      "Nenhum dado encontrado para o código postal: 9370-217\n",
      "Processado lote 6/10\n",
      "Nenhum dado encontrado para o código postal: 9000-428\n",
      "Processado lote 7/10\n",
      "Nenhum dado encontrado para o código postal: 3885-000\n",
      "Nenhum dado encontrado para o código postal: 5430-000\n",
      "Processado lote 8/10\n",
      "Nenhum dado encontrado para o código postal: 9370-112\n",
      "Processado lote 9/10\n",
      "Processado lote 10/10\n",
      "Processamento concluído e dados salvos no banco de dados.\n"
     ]
    }
   ],
   "source": [
    "# Configuração da API do CTT\n",
    "CTT_API_URL = \"https://www.cttcodigopostal.pt/api/v1\"\n",
    "CTT_API_KEY = \"b757e9c0410d4993a9be2130734a66d1\"\n",
    "\n",
    "# Função para buscar dados na API do CTT com re-tentativas\n",
    "def fetch_location_data(postal_code, max_retries=3):\n",
    "    # Verificar se o código postal está no formato correto\n",
    "    if not re.match(r\"^\\d{4}-\\d{3}$\", postal_code):\n",
    "        print(f\"Formato inválido para o código postal: {postal_code}\")\n",
    "        return None, None\n",
    "\n",
    "    api_url = f\"{CTT_API_URL}/{CTT_API_KEY}/{postal_code}\"\n",
    "    for attempt in range(max_retries):\n",
    "        try:\n",
    "            response = requests.get(api_url, timeout=5)\n",
    "            if response.status_code == 200:\n",
    "                try:\n",
    "                    location_data = response.json()\n",
    "                    if location_data:\n",
    "                        first_result = location_data[0]\n",
    "                        return first_result.get('concelho'), first_result.get('distrito')\n",
    "                    else:\n",
    "                        print(f\"Nenhum dado encontrado para o código postal: {postal_code}\")\n",
    "                        return None, None\n",
    "                except ValueError:\n",
    "                    print(f\"Resposta inválida (não JSON) para {postal_code}: {response.text}\")\n",
    "                    return None, None\n",
    "            elif response.status_code == 404:\n",
    "                print(f\"Código postal não encontrado: {postal_code}\")\n",
    "                return None, None\n",
    "            else:\n",
    "                print(f\"Erro {response.status_code} para {postal_code}: {response.text}\")\n",
    "        except requests.exceptions.Timeout:\n",
    "            print(f\"Timeout para {postal_code}. Tentativa {attempt + 1} de {max_retries}\")\n",
    "        except requests.exceptions.RequestException as e:\n",
    "            print(f\"Erro ao conectar com a API para {postal_code}: {e}\")\n",
    "        time.sleep(2)  # Aguardar antes de tentar novamente\n",
    "    return None, None\n",
    "\n",
    "# Enriquecer o dataset com dados da API em lotes\n",
    "def enrich_data_in_batches(data, batch_size=30):\n",
    "    enriched_data = []\n",
    "    for i in range(0, len(data), batch_size):\n",
    "        batch = data[i:i + batch_size]\n",
    "        for postal_code in batch['CP7']:\n",
    "            concelho, distrito = fetch_location_data(postal_code)\n",
    "            enriched_data.append((postal_code, concelho, distrito))\n",
    "        print(f\"Processado lote {i // batch_size + 1}/{len(data) // batch_size + 1}\")\n",
    "        time.sleep(60)  # Aguardar 1 minuto entre os lotes\n",
    "    return enriched_data\n",
    "\n",
    "# Carregar o arquivo CSV\n",
    "data_corrigido = pd.read_csv(\"C:\\\\Users\\\\Belit\\\\Downloads\\\\cp7_data_corrigido.csv\")\n",
    "data_corrigido['concelho'] = None\n",
    "data_corrigido['distrito'] = None\n",
    "\n",
    "# Processar os dados em lotes\n",
    "batch_size = 30  # 30 requisições por minuto\n",
    "results = enrich_data_in_batches(data_corrigido, batch_size=batch_size)\n",
    "\n",
    "# Atualizar o DataFrame com os resultados\n",
    "for postal_code, concelho, distrito in results:\n",
    "    data_corrigido.loc[data_corrigido['CP7'] == postal_code, 'concelho'] = concelho\n",
    "    data_corrigido.loc[data_corrigido['CP7'] == postal_code, 'distrito'] = distrito\n",
    "\n",
    "# Salvar os dados enriquecidos no SQLite\n",
    "conn = sqlite3.connect('codigos_postais.db')\n",
    "cursor = conn.cursor()\n",
    "\n",
    "# Criar a tabela\n",
    "cursor.execute('''\n",
    "CREATE TABLE IF NOT EXISTS codigos_postais (\n",
    "    codigo_postal TEXT PRIMARY KEY,\n",
    "    concelho TEXT,\n",
    "    distrito TEXT\n",
    ")\n",
    "''')\n",
    "\n",
    "# Inserir os dados no banco de dados\n",
    "data_corrigido.to_sql('codigos_postais', conn, if_exists='replace', index=False)\n",
    "conn.commit()\n",
    "\n",
    "print(\"Processamento concluído e dados salvos no banco de dados.\")\n"
   ]
  },
  {
   "cell_type": "markdown",
   "id": "f4026c8d",
   "metadata": {},
   "source": [
    "## Desafio Bônus: API para Consulta dos Dados:"
   ]
  },
  {
   "cell_type": "markdown",
   "id": "aaeedddf",
   "metadata": {},
   "source": [
    "Desenvolver um serviço de API para o acesso à tabela criada no desafio base.\n",
    "Permitir consultas aos dados enriquecidos diretamente pela API.\n",
    "\n",
    "🔗 Requisitos:\n",
    "\n",
    "Endpoints:\n",
    "\n",
    "GET /codigos_postais: Retorna todos os registros.\n",
    "\n",
    "GET /codigos_postais/{codigo_postal}: Retorna o registro correspondente ao código postal informado.\n",
    "\n",
    "Formato de resposta:\n",
    "\n",
    "JSON contendo as informações do código postal, concelho e distrito."
   ]
  },
  {
   "cell_type": "markdown",
   "id": "72664488",
   "metadata": {},
   "source": [
    "### Desenvolvimento da API"
   ]
  },
  {
   "cell_type": "code",
   "execution_count": 8,
   "id": "f06bb990",
   "metadata": {},
   "outputs": [
    {
     "name": "stdout",
     "output_type": "stream",
     "text": [
      " * Serving Flask app '__main__'\n",
      " * Debug mode: off\n"
     ]
    },
    {
     "name": "stderr",
     "output_type": "stream",
     "text": [
      "WARNING: This is a development server. Do not use it in a production deployment. Use a production WSGI server instead.\n",
      " * Running on all addresses (0.0.0.0)\n",
      " * Running on http://127.0.0.1:5000\n",
      " * Running on http://192.168.1.76:5000\n",
      "Press CTRL+C to quit\n"
     ]
    }
   ],
   "source": [
    "# API com Flask\n",
    "app = Flask(__name__)\n",
    "\n",
    "def connect_db():\n",
    "    return sqlite3.connect('codigos_postais.db')\n",
    "\n",
    "@app.route('/codigos_postais', methods=['GET'])\n",
    "def get_all_postal_codes():\n",
    "    conn = connect_db()\n",
    "    cursor = conn.cursor()\n",
    "    cursor.execute(\"SELECT * FROM codigos_postais\")\n",
    "    rows = cursor.fetchall()\n",
    "    conn.close()\n",
    "    return jsonify([{\"codigo_postal\": row[0], \"concelho\": row[1], \"distrito\": row[2]} for row in rows])\n",
    "\n",
    "@app.route('/codigos_postais/<codigo_postal>', methods=['GET'])\n",
    "def get_postal_code(codigo_postal):\n",
    "    conn = connect_db()\n",
    "    cursor = conn.cursor()\n",
    "    try:\n",
    "        # Corrigir a referência da coluna para \"CP7\"\n",
    "        cursor.execute(\"SELECT * FROM codigos_postais WHERE CP7 = ?\", (codigo_postal,))\n",
    "        row = cursor.fetchone()\n",
    "        conn.close()\n",
    "        if row:\n",
    "            return jsonify({\"CP7\": row[0], \"concelho\": row[1], \"distrito\": row[2]})\n",
    "        else:\n",
    "            return jsonify({\"error\": \"Código postal não encontrado\"}), 404\n",
    "    except sqlite3.Error as e:\n",
    "        conn.close()\n",
    "        print(f\"Erro no banco de dados: {e}\")\n",
    "        return jsonify({\"error\": \"Erro interno no servidor\"}), 500\n",
    "    \n",
    "from threading import Thread\n",
    "\n",
    "def run_flask():\n",
    "    app.run(host='0.0.0.0', port=5000, debug=False)\n",
    "\n",
    "# Iniciar o servidor Flask em uma thread\n",
    "flask_thread = Thread(target=run_flask)\n",
    "flask_thread.start()"
   ]
  },
  {
   "cell_type": "markdown",
   "id": "8a6712a8",
   "metadata": {},
   "source": [
    "### Teste da API: Retorno com todos os registros"
   ]
  },
  {
   "cell_type": "code",
   "execution_count": 9,
   "id": "805feff9",
   "metadata": {},
   "outputs": [
    {
     "name": "stderr",
     "output_type": "stream",
     "text": [
      "127.0.0.1 - - [04/Jan/2025 16:57:28] \"GET /codigos_postais HTTP/1.1\" 200 -\n"
     ]
    },
    {
     "data": {
      "text/html": [
       "<div>\n",
       "<style scoped>\n",
       "    .dataframe tbody tr th:only-of-type {\n",
       "        vertical-align: middle;\n",
       "    }\n",
       "\n",
       "    .dataframe tbody tr th {\n",
       "        vertical-align: top;\n",
       "    }\n",
       "\n",
       "    .dataframe thead th {\n",
       "        text-align: right;\n",
       "    }\n",
       "</style>\n",
       "<table border=\"1\" class=\"dataframe\">\n",
       "  <thead>\n",
       "    <tr style=\"text-align: right;\">\n",
       "      <th></th>\n",
       "      <th>codigo_postal</th>\n",
       "      <th>concelho</th>\n",
       "      <th>distrito</th>\n",
       "    </tr>\n",
       "  </thead>\n",
       "  <tbody>\n",
       "    <tr>\n",
       "      <th>0</th>\n",
       "      <td>9370-635</td>\n",
       "      <td>Calheta</td>\n",
       "      <td>Ilha da Madeira</td>\n",
       "    </tr>\n",
       "    <tr>\n",
       "      <th>1</th>\n",
       "      <td>9000-264</td>\n",
       "      <td>Funchal</td>\n",
       "      <td>Ilha da Madeira</td>\n",
       "    </tr>\n",
       "    <tr>\n",
       "      <th>2</th>\n",
       "      <td>9060-239</td>\n",
       "      <td>Funchal</td>\n",
       "      <td>Ilha da Madeira</td>\n",
       "    </tr>\n",
       "    <tr>\n",
       "      <th>3</th>\n",
       "      <td>9020-323</td>\n",
       "      <td>Funchal</td>\n",
       "      <td>Ilha da Madeira</td>\n",
       "    </tr>\n",
       "    <tr>\n",
       "      <th>4</th>\n",
       "      <td>9020-402</td>\n",
       "      <td>Funchal</td>\n",
       "      <td>Ilha da Madeira</td>\n",
       "    </tr>\n",
       "    <tr>\n",
       "      <th>...</th>\n",
       "      <td>...</td>\n",
       "      <td>...</td>\n",
       "      <td>...</td>\n",
       "    </tr>\n",
       "    <tr>\n",
       "      <th>275</th>\n",
       "      <td>9000-047</td>\n",
       "      <td>Funchal</td>\n",
       "      <td>Ilha da Madeira</td>\n",
       "    </tr>\n",
       "    <tr>\n",
       "      <th>276</th>\n",
       "      <td>9000-021</td>\n",
       "      <td>Funchal</td>\n",
       "      <td>Ilha da Madeira</td>\n",
       "    </tr>\n",
       "    <tr>\n",
       "      <th>277</th>\n",
       "      <td>9000-205</td>\n",
       "      <td>Funchal</td>\n",
       "      <td>Ilha da Madeira</td>\n",
       "    </tr>\n",
       "    <tr>\n",
       "      <th>278</th>\n",
       "      <td>9400-140</td>\n",
       "      <td>Porto Santo</td>\n",
       "      <td>Ilha de Porto Santo</td>\n",
       "    </tr>\n",
       "    <tr>\n",
       "      <th>279</th>\n",
       "      <td>9020-393</td>\n",
       "      <td>Funchal</td>\n",
       "      <td>Ilha da Madeira</td>\n",
       "    </tr>\n",
       "  </tbody>\n",
       "</table>\n",
       "<p>280 rows × 3 columns</p>\n",
       "</div>"
      ],
      "text/plain": [
       "    codigo_postal     concelho             distrito\n",
       "0        9370-635      Calheta      Ilha da Madeira\n",
       "1        9000-264      Funchal      Ilha da Madeira\n",
       "2        9060-239      Funchal      Ilha da Madeira\n",
       "3        9020-323      Funchal      Ilha da Madeira\n",
       "4        9020-402      Funchal      Ilha da Madeira\n",
       "..            ...          ...                  ...\n",
       "275      9000-047      Funchal      Ilha da Madeira\n",
       "276      9000-021      Funchal      Ilha da Madeira\n",
       "277      9000-205      Funchal      Ilha da Madeira\n",
       "278      9400-140  Porto Santo  Ilha de Porto Santo\n",
       "279      9020-393      Funchal      Ilha da Madeira\n",
       "\n",
       "[280 rows x 3 columns]"
      ]
     },
     "metadata": {},
     "output_type": "display_data"
    }
   ],
   "source": [
    "# Testar o endpoint de todos os registros\n",
    "response = requests.get('http://127.0.0.1:5000/codigos_postais')\n",
    "\n",
    "# Verificar se a resposta foi bem-sucedida\n",
    "if response.status_code == 200:\n",
    "    data = response.json()  # Carregar os dados retornados pela API\n",
    "    # Converter os dados em um DataFrame\n",
    "    df = pd.DataFrame(data)\n",
    "    # Exibir a tabela no Jupyter Notebook\n",
    "    display(df)\n",
    "else:\n",
    "    print(f\"Erro: {response.status_code} - {response.text}\")\n"
   ]
  },
  {
   "cell_type": "markdown",
   "id": "f74aab07",
   "metadata": {},
   "source": [
    "### Teste da API: Retorno com código postal informado"
   ]
  },
  {
   "cell_type": "code",
   "execution_count": 26,
   "id": "b84f8518",
   "metadata": {},
   "outputs": [],
   "source": [
    "# Conectar ao banco de dados\n",
    "conn = sqlite3.connect('codigos_postais.db')\n",
    "cursor = conn.cursor()"
   ]
  },
  {
   "cell_type": "markdown",
   "id": "ab91f360",
   "metadata": {},
   "source": [
    "#### Informar o código postal no campo abaixo:"
   ]
  },
  {
   "cell_type": "code",
   "execution_count": 27,
   "id": "29ffc42b",
   "metadata": {},
   "outputs": [
    {
     "name": "stdout",
     "output_type": "stream",
     "text": [
      "{\n",
      "    \"Codigo Postal\": \"6300-340\",\n",
      "    \"Concelho\": \"Guarda\",\n",
      "    \"Distrito\": \"Guarda\"\n",
      "}\n"
     ]
    }
   ],
   "source": [
    "# Verificar se o código postal está presente\n",
    "codigo_postal = '6300-340'\n",
    "cursor.execute(\"SELECT * FROM codigos_postais WHERE CP7 = ?\", (codigo_postal,))\n",
    "row = cursor.fetchone()\n",
    "\n",
    "if row:\n",
    "    # Converter o resultado para JSON\n",
    "    result = {\n",
    "        \"Codigo Postal\": row[0],\n",
    "        \"Concelho\": row[1],\n",
    "        \"Distrito\": row[2]\n",
    "    }\n",
    "    print(json.dumps(result, indent=4))  # Exibir como JSON formatado\n",
    "else:\n",
    "    print(json.dumps({\"error\": f\"Código postal {codigo_postal} não encontrado no banco de dados.\"}, indent=4))\n",
    "\n",
    "conn.close()"
   ]
  },
  {
   "cell_type": "code",
   "execution_count": null,
   "id": "376c4ea2",
   "metadata": {},
   "outputs": [],
   "source": []
  }
 ],
 "metadata": {
  "kernelspec": {
   "display_name": "Python 3 (ipykernel)",
   "language": "python",
   "name": "python3"
  },
  "language_info": {
   "codemirror_mode": {
    "name": "ipython",
    "version": 3
   },
   "file_extension": ".py",
   "mimetype": "text/x-python",
   "name": "python",
   "nbconvert_exporter": "python",
   "pygments_lexer": "ipython3",
   "version": "3.11.7"
  }
 },
 "nbformat": 4,
 "nbformat_minor": 5
}
